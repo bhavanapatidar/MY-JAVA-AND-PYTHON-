{
 "cells": [
  {
   "cell_type": "code",
   "execution_count": 2,
   "metadata": {},
   "outputs": [
    {
     "name": "stdout",
     "output_type": "stream",
     "text": [
      "['january', 'february', 'march', 'april', 'may', 'june', 'july', 'august', 'september', 'october', 'november', 'december']\n",
      "enter the name of month: august\n",
      "no. of days : 31 days \n"
     ]
    }
   ],
   "source": [
    "#convert month name to a number\n",
    "month = ['january', 'february', 'march', 'april', 'may', 'june', 'july', 'august', 'september' ,'october' ,'november' ,'december']\n",
    "days = ['31 days','28/29 days','31 days','30 days','31 days','30 days','31 days','31 days','30 days','31 days','30 days','31 days']\n",
    "data = input(\"enter the name of month: \")\n",
    "print(\"no. of days : {} \".format(days[month.index(data)]))"
   ]
  },
  {
   "cell_type": "code",
   "execution_count": null,
   "metadata": {},
   "outputs": [],
   "source": []
  }
 ],
 "metadata": {
  "kernelspec": {
   "display_name": "Python 3",
   "language": "python",
   "name": "python3"
  },
  "language_info": {
   "codemirror_mode": {
    "name": "ipython",
    "version": 3
   },
   "file_extension": ".py",
   "mimetype": "text/x-python",
   "name": "python",
   "nbconvert_exporter": "python",
   "pygments_lexer": "ipython3",
   "version": "3.8.3"
  }
 },
 "nbformat": 4,
 "nbformat_minor": 4
}
